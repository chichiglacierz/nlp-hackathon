{
  "nbformat": 4,
  "nbformat_minor": 0,
  "metadata": {
    "colab": {
      "name": "spooky-author.ipynb",
      "provenance": [],
      "collapsed_sections": [],
      "include_colab_link": true
    },
    "kernelspec": {
      "name": "python3",
      "display_name": "Python 3"
    }
  },
  "cells": [
    {
      "cell_type": "markdown",
      "metadata": {
        "id": "view-in-github",
        "colab_type": "text"
      },
      "source": [
        "<a href=\"https://colab.research.google.com/github/kajsanorin/nlp-hackathon/blob/master/spooky_author.ipynb\" target=\"_parent\"><img src=\"https://colab.research.google.com/assets/colab-badge.svg\" alt=\"Open In Colab\"/></a>"
      ]
    },
    {
      "cell_type": "markdown",
      "metadata": {
        "id": "qQoIQJ1k0HpC",
        "colab_type": "text"
      },
      "source": [
        "#Spooky Author Identification\n",
        "###In this task we will identify three classical horror fiction authors (Edgar Allan Poe, Mary Shelley, HP Lovecraft) based on sentences they have written."
      ]
    },
    {
      "cell_type": "markdown",
      "metadata": {
        "id": "nnofDjvs0iFM",
        "colab_type": "text"
      },
      "source": [
        "###Import from numpy, pandas and sklearn - almost all the libraries you need in ML :)\n"
      ]
    },
    {
      "cell_type": "code",
      "metadata": {
        "id": "TL1-yFLXqbRD",
        "colab_type": "code",
        "colab": {
          "base_uri": "https://localhost:8080/",
          "height": 85
        },
        "outputId": "b4a86560-fd70-4d0e-c8e8-047296300105"
      },
      "source": [
        "!pip install scikit-learn -U"
      ],
      "execution_count": 1,
      "outputs": [
        {
          "output_type": "stream",
          "text": [
            "Requirement already up-to-date: scikit-learn in /usr/local/lib/python3.6/dist-packages (0.22)\n",
            "Requirement already satisfied, skipping upgrade: numpy>=1.11.0 in /usr/local/lib/python3.6/dist-packages (from scikit-learn) (1.17.4)\n",
            "Requirement already satisfied, skipping upgrade: joblib>=0.11 in /usr/local/lib/python3.6/dist-packages (from scikit-learn) (0.14.0)\n",
            "Requirement already satisfied, skipping upgrade: scipy>=0.17.0 in /usr/local/lib/python3.6/dist-packages (from scikit-learn) (1.3.3)\n"
          ],
          "name": "stdout"
        }
      ]
    },
    {
      "cell_type": "code",
      "metadata": {
        "id": "PqNLUsJbuQAw",
        "colab_type": "code",
        "colab": {}
      },
      "source": [
        "import numpy as np\n",
        "import pandas as pd\n",
        "from sklearn import preprocessing\n",
        "from sklearn.feature_extraction.text import TfidfVectorizer\n",
        "from sklearn.metrics import log_loss\n",
        "from sklearn.svm import LinearSVC\n",
        "from sklearn.preprocessing import OneHotEncoder\n",
        "from sklearn.model_selection import train_test_split"
      ],
      "execution_count": 0,
      "outputs": []
    },
    {
      "cell_type": "markdown",
      "metadata": {
        "id": "LaT-L6fB0mxi",
        "colab_type": "text"
      },
      "source": [
        "###Import data from Github"
      ]
    },
    {
      "cell_type": "code",
      "metadata": {
        "id": "5d-tr6wxiueA",
        "colab_type": "code",
        "outputId": "d78d09af-ac6c-4b23-92d3-b605ec5e5c03",
        "colab": {
          "base_uri": "https://localhost:8080/",
          "height": 204
        }
      },
      "source": [
        "url = \"https://raw.githubusercontent.com/kajsanorin/nlp-hackathon/master/train.csv\"\n",
        "data = pd.read_csv(url)\n",
        "data.head()"
      ],
      "execution_count": 3,
      "outputs": [
        {
          "output_type": "execute_result",
          "data": {
            "text/html": [
              "<div>\n",
              "<style scoped>\n",
              "    .dataframe tbody tr th:only-of-type {\n",
              "        vertical-align: middle;\n",
              "    }\n",
              "\n",
              "    .dataframe tbody tr th {\n",
              "        vertical-align: top;\n",
              "    }\n",
              "\n",
              "    .dataframe thead th {\n",
              "        text-align: right;\n",
              "    }\n",
              "</style>\n",
              "<table border=\"1\" class=\"dataframe\">\n",
              "  <thead>\n",
              "    <tr style=\"text-align: right;\">\n",
              "      <th></th>\n",
              "      <th>id</th>\n",
              "      <th>text</th>\n",
              "      <th>author</th>\n",
              "    </tr>\n",
              "  </thead>\n",
              "  <tbody>\n",
              "    <tr>\n",
              "      <th>0</th>\n",
              "      <td>id26305</td>\n",
              "      <td>This process, however, afforded me no means of...</td>\n",
              "      <td>EAP</td>\n",
              "    </tr>\n",
              "    <tr>\n",
              "      <th>1</th>\n",
              "      <td>id17569</td>\n",
              "      <td>It never once occurred to me that the fumbling...</td>\n",
              "      <td>HPL</td>\n",
              "    </tr>\n",
              "    <tr>\n",
              "      <th>2</th>\n",
              "      <td>id11008</td>\n",
              "      <td>In his left hand was a gold snuff box, from wh...</td>\n",
              "      <td>EAP</td>\n",
              "    </tr>\n",
              "    <tr>\n",
              "      <th>3</th>\n",
              "      <td>id27763</td>\n",
              "      <td>How lovely is spring As we looked from Windsor...</td>\n",
              "      <td>MWS</td>\n",
              "    </tr>\n",
              "    <tr>\n",
              "      <th>4</th>\n",
              "      <td>id12958</td>\n",
              "      <td>Finding nothing else, not even gold, the Super...</td>\n",
              "      <td>HPL</td>\n",
              "    </tr>\n",
              "  </tbody>\n",
              "</table>\n",
              "</div>"
            ],
            "text/plain": [
              "        id                                               text author\n",
              "0  id26305  This process, however, afforded me no means of...    EAP\n",
              "1  id17569  It never once occurred to me that the fumbling...    HPL\n",
              "2  id11008  In his left hand was a gold snuff box, from wh...    EAP\n",
              "3  id27763  How lovely is spring As we looked from Windsor...    MWS\n",
              "4  id12958  Finding nothing else, not even gold, the Super...    HPL"
            ]
          },
          "metadata": {
            "tags": []
          },
          "execution_count": 3
        }
      ]
    },
    {
      "cell_type": "markdown",
      "metadata": {
        "id": "LcC8vYf_z0fO",
        "colab_type": "text"
      },
      "source": [
        "###Check how many authors we have\n"
      ]
    },
    {
      "cell_type": "code",
      "metadata": {
        "id": "lCG8U4nxla-H",
        "colab_type": "code",
        "outputId": "07fcdac3-1688-4cff-ef3f-6b65894cc3ff",
        "colab": {
          "base_uri": "https://localhost:8080/",
          "height": 34
        }
      },
      "source": [
        "data.author.unique()"
      ],
      "execution_count": 4,
      "outputs": [
        {
          "output_type": "execute_result",
          "data": {
            "text/plain": [
              "array(['EAP', 'HPL', 'MWS'], dtype=object)"
            ]
          },
          "metadata": {
            "tags": []
          },
          "execution_count": 4
        }
      ]
    },
    {
      "cell_type": "markdown",
      "metadata": {
        "id": "JthTG7pR3Yyp",
        "colab_type": "text"
      },
      "source": [
        "###Create a new column with numbers representing the authors"
      ]
    },
    {
      "cell_type": "code",
      "metadata": {
        "id": "k6AnYVx6p0qg",
        "colab_type": "code",
        "colab": {}
      },
      "source": [
        "le = preprocessing.LabelEncoder()\n",
        "le.fit(data.author)\n",
        "\n",
        "data['author_encoded'] = le.transform(data.author)"
      ],
      "execution_count": 0,
      "outputs": []
    },
    {
      "cell_type": "code",
      "metadata": {
        "id": "uUpchduIzprL",
        "colab_type": "code",
        "outputId": "1d434701-6fd1-49b5-f907-696dd2d233e3",
        "colab": {
          "base_uri": "https://localhost:8080/",
          "height": 204
        }
      },
      "source": [
        "data.head()"
      ],
      "execution_count": 6,
      "outputs": [
        {
          "output_type": "execute_result",
          "data": {
            "text/html": [
              "<div>\n",
              "<style scoped>\n",
              "    .dataframe tbody tr th:only-of-type {\n",
              "        vertical-align: middle;\n",
              "    }\n",
              "\n",
              "    .dataframe tbody tr th {\n",
              "        vertical-align: top;\n",
              "    }\n",
              "\n",
              "    .dataframe thead th {\n",
              "        text-align: right;\n",
              "    }\n",
              "</style>\n",
              "<table border=\"1\" class=\"dataframe\">\n",
              "  <thead>\n",
              "    <tr style=\"text-align: right;\">\n",
              "      <th></th>\n",
              "      <th>id</th>\n",
              "      <th>text</th>\n",
              "      <th>author</th>\n",
              "      <th>author_encoded</th>\n",
              "    </tr>\n",
              "  </thead>\n",
              "  <tbody>\n",
              "    <tr>\n",
              "      <th>0</th>\n",
              "      <td>id26305</td>\n",
              "      <td>This process, however, afforded me no means of...</td>\n",
              "      <td>EAP</td>\n",
              "      <td>0</td>\n",
              "    </tr>\n",
              "    <tr>\n",
              "      <th>1</th>\n",
              "      <td>id17569</td>\n",
              "      <td>It never once occurred to me that the fumbling...</td>\n",
              "      <td>HPL</td>\n",
              "      <td>1</td>\n",
              "    </tr>\n",
              "    <tr>\n",
              "      <th>2</th>\n",
              "      <td>id11008</td>\n",
              "      <td>In his left hand was a gold snuff box, from wh...</td>\n",
              "      <td>EAP</td>\n",
              "      <td>0</td>\n",
              "    </tr>\n",
              "    <tr>\n",
              "      <th>3</th>\n",
              "      <td>id27763</td>\n",
              "      <td>How lovely is spring As we looked from Windsor...</td>\n",
              "      <td>MWS</td>\n",
              "      <td>2</td>\n",
              "    </tr>\n",
              "    <tr>\n",
              "      <th>4</th>\n",
              "      <td>id12958</td>\n",
              "      <td>Finding nothing else, not even gold, the Super...</td>\n",
              "      <td>HPL</td>\n",
              "      <td>1</td>\n",
              "    </tr>\n",
              "  </tbody>\n",
              "</table>\n",
              "</div>"
            ],
            "text/plain": [
              "        id  ... author_encoded\n",
              "0  id26305  ...              0\n",
              "1  id17569  ...              1\n",
              "2  id11008  ...              0\n",
              "3  id27763  ...              2\n",
              "4  id12958  ...              1\n",
              "\n",
              "[5 rows x 4 columns]"
            ]
          },
          "metadata": {
            "tags": []
          },
          "execution_count": 6
        }
      ]
    },
    {
      "cell_type": "markdown",
      "metadata": {
        "id": "kEkXzB0l3nYZ",
        "colab_type": "text"
      },
      "source": [
        "###Split the data in train and test"
      ]
    },
    {
      "cell_type": "code",
      "metadata": {
        "id": "r3AT0jeUt18Z",
        "colab_type": "code",
        "colab": {}
      },
      "source": [
        "X_train, X_test, y_train, y_test = train_test_split(\n",
        "    data.text, data.author_encoded, test_size=0.2, random_state=42)"
      ],
      "execution_count": 0,
      "outputs": []
    },
    {
      "cell_type": "markdown",
      "metadata": {
        "id": "eHL72iQl3sO7",
        "colab_type": "text"
      },
      "source": [
        "###Make a Tfidf model. Try playing around with\n",
        "\n",
        "```\n",
        "ngram_range\n",
        "strip_accents\n",
        "min_df\n",
        "lowercase\n",
        "```"
      ]
    },
    {
      "cell_type": "code",
      "metadata": {
        "id": "Blb1pu65uZs8",
        "colab_type": "code",
        "colab": {}
      },
      "source": [
        "tfidf_model = TfidfVectorizer(\n",
        "            ngram_range=(1, 2),\n",
        "            strip_accents='unicode',\n",
        "            min_df=0.0001,\n",
        "            lowercase=True)\n",
        "transformed_train = tfidf_model.fit_transform(X_train)"
      ],
      "execution_count": 0,
      "outputs": []
    },
    {
      "cell_type": "markdown",
      "metadata": {
        "id": "bQ3SXn_U3_yW",
        "colab_type": "text"
      },
      "source": [
        "###Make and train a Support Vector Machine classifier to identify which text strings belong to which author"
      ]
    },
    {
      "cell_type": "code",
      "metadata": {
        "id": "J2KGPGkQub8V",
        "colab_type": "code",
        "outputId": "6375415a-7ba7-40ac-d410-dcabba107a0e",
        "colab": {
          "base_uri": "https://localhost:8080/",
          "height": 85
        }
      },
      "source": [
        "clf = LinearSVC(random_state=0, tol=1e-5)\n",
        "clf.fit(transformed_train, y_train) "
      ],
      "execution_count": 9,
      "outputs": [
        {
          "output_type": "execute_result",
          "data": {
            "text/plain": [
              "LinearSVC(C=1.0, class_weight=None, dual=True, fit_intercept=True,\n",
              "          intercept_scaling=1, loss='squared_hinge', max_iter=1000,\n",
              "          multi_class='ovr', penalty='l2', random_state=0, tol=1e-05,\n",
              "          verbose=0)"
            ]
          },
          "metadata": {
            "tags": []
          },
          "execution_count": 9
        }
      ]
    },
    {
      "cell_type": "code",
      "metadata": {
        "id": "LnR9N9s2ui31",
        "colab_type": "code",
        "colab": {}
      },
      "source": [
        "transformed_test = tfidf_model.transform(X_test)"
      ],
      "execution_count": 0,
      "outputs": []
    },
    {
      "cell_type": "markdown",
      "metadata": {
        "id": "bUqWKzET5DR7",
        "colab_type": "text"
      },
      "source": [
        "###Predict author of the \"unknown\" sentences"
      ]
    },
    {
      "cell_type": "code",
      "metadata": {
        "id": "2QhvLJknulKV",
        "colab_type": "code",
        "colab": {}
      },
      "source": [
        "y_pred = clf.predict(transformed_test)"
      ],
      "execution_count": 0,
      "outputs": []
    },
    {
      "cell_type": "markdown",
      "metadata": {
        "id": "aGVmjy_o5lql",
        "colab_type": "text"
      },
      "source": [
        "###Let's see how good we are... :)"
      ]
    },
    {
      "cell_type": "code",
      "metadata": {
        "id": "CqHURCEpunWl",
        "colab_type": "code",
        "outputId": "773247b0-5f38-4b60-e620-741f74b09115",
        "colab": {
          "base_uri": "https://localhost:8080/",
          "height": 34
        }
      },
      "source": [
        "from sklearn.metrics import accuracy_score\n",
        "y_true = y_test\n",
        "accuracy_score(y_true, y_pred)  "
      ],
      "execution_count": 12,
      "outputs": [
        {
          "output_type": "execute_result",
          "data": {
            "text/plain": [
              "0.8398876404494382"
            ]
          },
          "metadata": {
            "tags": []
          },
          "execution_count": 12
        }
      ]
    },
    {
      "cell_type": "code",
      "metadata": {
        "id": "fdG_K_QYusw6",
        "colab_type": "code",
        "outputId": "7d608c41-893c-4fe7-bafe-5eb8a42f45ca",
        "colab": {
          "base_uri": "https://localhost:8080/",
          "height": 68
        }
      },
      "source": [
        "from sklearn.metrics import confusion_matrix\n",
        "confusion_matrix(y_true, y_pred)"
      ],
      "execution_count": 13,
      "outputs": [
        {
          "output_type": "execute_result",
          "data": {
            "text/plain": [
              "array([[1342,  105,  123],\n",
              "       [ 138,  865,   68],\n",
              "       [ 131,   62, 1082]])"
            ]
          },
          "metadata": {
            "tags": []
          },
          "execution_count": 13
        }
      ]
    },
    {
      "cell_type": "code",
      "metadata": {
        "id": "q156y_9t9Ed_",
        "colab_type": "code",
        "outputId": "d223651a-96cd-4e16-b67b-cba537b161b0",
        "colab": {
          "base_uri": "https://localhost:8080/",
          "height": 68
        }
      },
      "source": [
        "confusion_matrix(y_true, y_pred, normalize='true')"
      ],
      "execution_count": 14,
      "outputs": [
        {
          "output_type": "execute_result",
          "data": {
            "text/plain": [
              "array([[0.85477707, 0.06687898, 0.07834395],\n",
              "       [0.12885154, 0.8076564 , 0.06349206],\n",
              "       [0.1027451 , 0.04862745, 0.84862745]])"
            ]
          },
          "metadata": {
            "tags": []
          },
          "execution_count": 14
        }
      ]
    }
  ]
}